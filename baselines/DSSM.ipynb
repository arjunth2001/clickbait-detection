{
 "cells": [
  {
   "cell_type": "code",
   "execution_count": null,
   "id": "d9c66c8c-c4d9-4b50-9990-1c13c19f974b",
   "metadata": {},
   "outputs": [],
   "source": [
    "import torch\n",
    "from torch.utils.data import Dataset, DataLoader\n",
    "import torch.nn as nn\n",
    "import numpy as np\n",
    "import json\n",
    "import pandas as pd\n",
    "from tqdm.auto import tqdm\n",
    "import matplotlib.pyplot as plt\n",
    "from sklearn.metrics import classification_report\n",
    "from sklearn.metrics import confusion_matrix\n",
    "from sklearn.metrics import ConfusionMatrixDisplay\n",
    "import torch.nn.functional as F\n",
    "import warnings\n",
    "from torch import optim\n",
    "from nltk import ngrams\n",
    "from sklearn.feature_extraction.text import TfidfVectorizer\n",
    "tqdm.pandas()\n",
    "warnings.filterwarnings('always')"
   ]
  },
  {
   "cell_type": "code",
   "execution_count": null,
   "id": "2d1db9d8-acdb-42d5-b97a-9a6c8d8efe93",
   "metadata": {},
   "outputs": [],
   "source": [
    "if torch.cuda.is_available():\n",
    "    device = torch.device('cuda')\n",
    "else:\n",
    "    device = torch.device('cpu')\n",
    "print('device: ' + str(device))"
   ]
  },
  {
   "cell_type": "code",
   "execution_count": null,
   "id": "ff5eb390-4e2d-4ee8-9d3e-f47363524ceb",
   "metadata": {},
   "outputs": [],
   "source": [
    "def split_to_trigrams(text):\n",
    "    if text == None or pd.isnull(text):\n",
    "        return ''\n",
    "    # return text\n",
    "    tokens = text.split(\" \")\n",
    "    delim_tokens = ['#' + token + '#' for token in tokens]\n",
    "    trigram_tokens_list = []\n",
    "    for token in delim_tokens:\n",
    "        trigram_tokens_list += [\"\".join(k1) for k1 in list(ngrams(token, n = 3))]\n",
    "    return ' '.join(trigram_tokens_list)"
   ]
  },
  {
   "cell_type": "code",
   "execution_count": null,
   "id": "d4aeaa9f-6939-4eb4-af69-3ddfa17ea6b3",
   "metadata": {},
   "outputs": [],
   "source": [
    "# Vectorizing with Word hashing - using training data to fit tfidf vectorizer\n",
    "with open('../data/clean/train.csv', 'r') as f:\n",
    "    data = pd.read_csv(f)#.head(1000)\n",
    "    x1, x2 = data['heading'].progress_apply(lambda text: split_to_trigrams(text)).tolist(), data['body'].progress_apply(lambda text: split_to_trigrams(text)).tolist()\n",
    "    vectorizer = TfidfVectorizer()\n",
    "    vectorizer.fit(x1 + x2)"
   ]
  },
  {
   "cell_type": "code",
   "execution_count": null,
   "id": "b0337583-4bdc-455f-bf18-74a0d74e196a",
   "metadata": {},
   "outputs": [],
   "source": [
    "VOCAB_SIZE, WORD_DIM, FINAL_DIM, dropout = vectorizer.transform([\"Hello there\"]).toarray().shape[1], 300, 128, 0.2"
   ]
  },
  {
   "cell_type": "code",
   "execution_count": null,
   "id": "108642d1-3019-4e17-84b8-63d4b7a19d46",
   "metadata": {},
   "outputs": [],
   "source": [
    "class ClickBaitDataSet(Dataset):\n",
    "    def __init__(self,df,vectorizer):\n",
    "        self.df=df\n",
    "        self.vectorizer=vectorizer\n",
    "    def __getitem__(self, idx):\n",
    "        heading = str(self.df[\"heading\"][idx])\n",
    "        body = str(self.df[\"body\"][idx])\n",
    "        if not heading or heading==\" \" or len(heading)==0:\n",
    "            heading =\"something\"\n",
    "        if not body or body==\" \" or len(body)==0:\n",
    "            body =\"something\"\n",
    "        heading = torch.tensor(self.vectorizer.transform([heading])[0].toarray().astype(np.float32))\n",
    "        body = torch.tensor(self.vectorizer.transform([body])[0].toarray().astype(np.float32))\n",
    "        label = self.df[\"label\"][idx]\n",
    "        return heading,body,label\n",
    "    def __len__(self):\n",
    "        return len(self.df)"
   ]
  },
  {
   "cell_type": "code",
   "execution_count": null,
   "id": "a96d6118-85eb-4569-9bbb-81d7878d7213",
   "metadata": {},
   "outputs": [],
   "source": [
    "class Model(nn.Module):\n",
    "    def __init__(self):\n",
    "        super(Model, self).__init__()\n",
    "        self.l1 =  nn.Linear(VOCAB_SIZE ,WORD_DIM)\n",
    "        self.l2 =  nn.Linear(WORD_DIM ,WORD_DIM)\n",
    "        self.l3 =  nn.Linear(WORD_DIM ,FINAL_DIM)\n",
    "        self.tanh = nn.Tanh()\n",
    "        self.do = nn.Dropout(p=0.2)\n",
    "        self.cos = torch.nn.CosineSimilarity(dim=1, eps=1e-08)\n",
    "        self.l4 = nn.Linear(1,2)\n",
    "    def forward(self,h,b):\n",
    "        h = h.squeeze(1)\n",
    "        b = b.squeeze(1)\n",
    "        h = self.l1(h)\n",
    "        h = self.tanh(h)\n",
    "        h = self.l2(h)\n",
    "        h = self.tanh(h)\n",
    "        h = self.l3(h)\n",
    "        h = self.tanh(h)\n",
    "        b = self.l1(b)\n",
    "        b = self.tanh(b)\n",
    "        b = self.l2(b)\n",
    "        b = self.tanh(b)\n",
    "        b = self.l3(b)\n",
    "        b = self.tanh(b)\n",
    "        h = self.do(h)\n",
    "        b = self.do(b)\n",
    "        c = self.cos(h,b).unsqueeze(-1)\n",
    "        out = self.l4(c)\n",
    "        return out"
   ]
  },
  {
   "cell_type": "code",
   "execution_count": null,
   "id": "145afbab-4eed-4257-9e3a-dbab3ddcb8f8",
   "metadata": {},
   "outputs": [],
   "source": [
    "def train_func_epoch(epoch, model, dataloader, device, optimizer):\n",
    "    model.train()\n",
    "    total_loss = 0\n",
    "    with tqdm(dataloader, unit=\"batch\", total=len(dataloader)) as single_epoch:\n",
    "        \n",
    "        for step, batch in enumerate(single_epoch):\n",
    "\n",
    "            single_epoch.set_description(f\"Training- Epoch {epoch}\")\n",
    "            h, b, l = batch \n",
    "            h = h.to(device)\n",
    "            b = b.to(device)\n",
    "            l = l.to(device)\n",
    "            model.zero_grad()\n",
    "            out = model(h,b)\n",
    "            loss = F.cross_entropy(out,l)\n",
    "            total_loss += loss.item()\n",
    "            loss.backward()\n",
    "            optimizer.step()\n",
    "            model.zero_grad()\n",
    "            single_epoch.set_postfix(train_loss=total_loss/(step+1))\n",
    "    return total_loss / len(dataloader)"
   ]
  },
  {
   "cell_type": "code",
   "execution_count": null,
   "id": "01372b1b-a1a2-4c3b-af21-92aea58d5132",
   "metadata": {},
   "outputs": [],
   "source": [
    "def eval_func_epoch(model, dataloader, device, epoch):\n",
    "    model.eval()\n",
    "    total_loss = 0\n",
    "    targets = []\n",
    "    predictions = []\n",
    "    with tqdm(dataloader, unit=\"batch\", total=len(dataloader)) as single_epoch:\n",
    "        for step, batch in enumerate(single_epoch):\n",
    "            single_epoch.set_description(f\"Evaluating- Epoch {epoch}\")\n",
    "            h, b, l = batch \n",
    "            h = h.to(device)\n",
    "            b = b.to(device)\n",
    "            l = l.to(device)\n",
    "            model.zero_grad()\n",
    "            with torch.no_grad():\n",
    "                out = model(h,b)\n",
    "                loss = F.cross_entropy(out,l)\n",
    "                total_loss += loss.item()\n",
    "            single_epoch.set_postfix(train_loss=total_loss/(step+1))\n",
    "            pred = torch.argmax(out, dim=1).flatten().cpu().numpy()\n",
    "            predictions.append(pred)\n",
    "            targets.append(l.cpu().numpy())\n",
    "    targets = np.concatenate(targets, axis=0)\n",
    "    predictions = np.concatenate(predictions, axis=0)\n",
    "    epoch_validation_loss = total_loss/len(dataloader)\n",
    "    report = classification_report(targets, predictions, output_dict=True, labels=[0,1])\n",
    "    tn, fp, fn, tp = confusion_matrix(targets, predictions).ravel()\n",
    "    if epoch == \"TESTING\":\n",
    "        ConfusionMatrixDisplay.from_predictions(targets, predictions)\n",
    "        plt.savefig(\"confusion.png\",dpi=300)\n",
    "    return epoch_validation_loss, report, tn, fp, fn, tp"
   ]
  },
  {
   "cell_type": "code",
   "execution_count": null,
   "id": "5710b690-69ac-4d5f-82e7-3d2fbad8f97e",
   "metadata": {},
   "outputs": [],
   "source": [
    "model = Model()\n",
    "opt = optim.Adam(model.parameters(),lr = 1e-5)\n",
    "model.to(device)\n",
    "batch_size=32\n",
    "epochs=8\n",
    "model_path=\"models/model.pt\""
   ]
  },
  {
   "cell_type": "code",
   "execution_count": null,
   "id": "f6a0e8c3-f894-49b0-b663-675bddac3985",
   "metadata": {},
   "outputs": [],
   "source": [
    "train_df = pd.read_csv(\"../data/clean/train.csv\")#.head(500)\n",
    "test_df = pd.read_csv(\"../data/clean/train.csv\")#.head(500)\n",
    "val_df = pd.read_csv(\"../data/clean/val.csv\")#.head(500)\n",
    "train_data = ClickBaitDataSet(train_df,vectorizer)\n",
    "test_data = ClickBaitDataSet(test_df,vectorizer)\n",
    "val_data = ClickBaitDataSet(val_df,vectorizer)\n",
    "train_data_loader = DataLoader(train_data, batch_size=16)\n",
    "val_data_loader = DataLoader(val_data, batch_size=16)\n",
    "test_data_loader = DataLoader(test_data, batch_size=16)"
   ]
  },
  {
   "cell_type": "code",
   "execution_count": null,
   "id": "13bd0143-0499-483f-a9d8-93e509c10f77",
   "metadata": {},
   "outputs": [],
   "source": [
    "best_loss = np.inf\n",
    "best_epoch = 0\n",
    "for epoch in range(epochs):\n",
    "    print(f\"\\n---------------------- Epoch: {epoch+1} ---------------------------------- \\n\")\n",
    "    ## Training Loop\n",
    "    train_loss = train_func_epoch(epoch+1, model, train_data_loader, device, opt)\n",
    "    ## Validation loop\n",
    "    val_loss, report, tn, fp, fn, tp = eval_func_epoch(model, val_data_loader, device, epoch+1)\n",
    "    print(f\"\\nEpoch: {epoch+1} | Training loss: {train_loss} | Validation Loss: {val_loss}\")\n",
    "    print()\n",
    "    print(report)\n",
    "    print()\n",
    "    print(f\"TP: {tp} | FP: {fp} | TN: {tn}, FN: {fn} \")\n",
    "    print(f\"\\n----------------------------------------------------------------------------\")\n",
    "    ## Save the model \n",
    "    if (val_loss < best_loss):\n",
    "        torch.save(model.state_dict(), model_path)\n",
    "        best_loss = val_loss\n",
    "        best_epoch = epoch+1"
   ]
  },
  {
   "cell_type": "code",
   "execution_count": null,
   "id": "e0b7f59f-bf0e-4dc0-96bd-f0c5a24e630f",
   "metadata": {},
   "outputs": [],
   "source": [
    "loaded_state_dict = torch.load(model_path,  map_location=device)\n",
    "model.load_state_dict(loaded_state_dict)\n",
    "print(f\"\\n---------------------- Testing best model (at epoch: {best_epoch} )---------------------------------- \\n\")\n",
    "test_loss,report, tn, fp, fn, tp = eval_func_epoch(model, test_data_loader, device, \"TESTING\")\n",
    "print(f\"\\nTest loss: {test_loss}\")\n",
    "print()\n",
    "print(report)\n",
    "print()\n",
    "print(f\"TP: {tp} | FP: {fp} | TN: {tn}, FN: {fn} \")\n",
    "\n",
    "with open(\"./report.json\",\"w\") as f:\n",
    "    json.dump(report,f,indent=4) "
   ]
  },
  {
   "cell_type": "code",
   "execution_count": null,
   "id": "c0ef75fc-1f48-4cda-8249-712a2e6e4f19",
   "metadata": {},
   "outputs": [],
   "source": []
  }
 ],
 "metadata": {
  "kernelspec": {
   "display_name": "Python 3 (ipykernel)",
   "language": "python",
   "name": "python3"
  },
  "language_info": {
   "codemirror_mode": {
    "name": "ipython",
    "version": 3
   },
   "file_extension": ".py",
   "mimetype": "text/x-python",
   "name": "python",
   "nbconvert_exporter": "python",
   "pygments_lexer": "ipython3",
   "version": "3.7.0"
  }
 },
 "nbformat": 4,
 "nbformat_minor": 5
}
