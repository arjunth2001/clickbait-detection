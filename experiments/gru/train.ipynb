{
 "cells": [
  {
   "cell_type": "code",
   "execution_count": null,
   "id": "d9c66c8c-c4d9-4b50-9990-1c13c19f974b",
   "metadata": {},
   "outputs": [],
   "source": [
    "import torch\n",
    "from torch.utils.data import Dataset, DataLoader\n",
    "from gensim.models import KeyedVectors\n",
    "import torch.nn as nn\n",
    "import numpy as np\n",
    "import json\n",
    "import pandas as pd\n",
    "from tqdm.auto import tqdm\n",
    "import matplotlib.pyplot as plt\n",
    "from sklearn.metrics import classification_report\n",
    "from sklearn.metrics import confusion_matrix\n",
    "from sklearn.metrics import ConfusionMatrixDisplay\n",
    "import torch.nn.functional as F\n",
    "import warnings\n",
    "from torch import optim\n",
    "warnings.filterwarnings('always')\n",
    "load = False"
   ]
  },
  {
   "cell_type": "code",
   "execution_count": null,
   "id": "2d1db9d8-acdb-42d5-b97a-9a6c8d8efe93",
   "metadata": {},
   "outputs": [],
   "source": [
    "if torch.cuda.is_available():\n",
    "    device = torch.device('cuda')\n",
    "else:\n",
    "    device = torch.device('cpu')\n",
    "print('device: ' + str(device))"
   ]
  },
  {
   "cell_type": "code",
   "execution_count": null,
   "id": "02ed45d7-30af-402f-b5c9-112fdef41eb3",
   "metadata": {},
   "outputs": [],
   "source": [
    "class Tokenizer:\n",
    "    def __init__(self,word2id):\n",
    "        self.word2id = word2id\n",
    "        self.id2word = {i: word for word, i in word2id.items()}\n",
    "    def tokenize(self,text,max_length=512):\n",
    "        oov_id, pad_id = self.word2id.get(\"<oov>\"), self.word2id.get(\"<pad>\")\n",
    "        w = torch.LongTensor(max_length).fill_(pad_id)\n",
    "        m = torch.LongTensor(max_length).fill_(0)\n",
    "        words = str(text).strip(\".\").split()\n",
    "        for i, wi in enumerate(words[:max_length]):\n",
    "            w[i] = self.word2id.get(wi, oov_id)\n",
    "            if w[i]!=oov_id:\n",
    "                m[i]=1\n",
    "        return w,m"
   ]
  },
  {
   "cell_type": "code",
   "execution_count": null,
   "id": "108642d1-3019-4e17-84b8-63d4b7a19d46",
   "metadata": {},
   "outputs": [],
   "source": [
    "class ClickBaitDataSet(Dataset):\n",
    "    def __init__(self,df,tokenizer):\n",
    "        self.df=df\n",
    "        self.tokenizer=tokenizer\n",
    "    def __getitem__(self, idx):\n",
    "        body = self.df[\"body\"][idx]\n",
    "        body, bm = self.tokenizer.tokenize(body,max_length=512)\n",
    "        label = self.df[\"label\"][idx]\n",
    "        return body,label\n",
    "    def __len__(self):\n",
    "        return len(self.df)"
   ]
  },
  {
   "cell_type": "code",
   "execution_count": null,
   "id": "a96d6118-85eb-4569-9bbb-81d7878d7213",
   "metadata": {},
   "outputs": [],
   "source": [
    "class Model(nn.Module):\n",
    "    def __init__(self):\n",
    "        super(Model, self).__init__()\n",
    "        w2v = KeyedVectors.load_word2vec_format(\"./models/word2vec.bin\", binary=True)\n",
    "        index_to_key = w2v.index_to_key\n",
    "        key_to_index = w2v.key_to_index\n",
    "        index_to_key.append(\"<oov>\")\n",
    "        index_to_key.append(\"<pad>\")\n",
    "        key_to_index[\"<oov>\"] = index_to_key.index(\"<oov>\")\n",
    "        key_to_index[\"<pad>\"] = index_to_key.index(\"<pad>\")\n",
    "        weights = w2v.vectors\n",
    "        weights = np.append(weights,np.array([[0]*50,[0]*50]),axis=0)\n",
    "        self.tokenizer = Tokenizer(key_to_index)\n",
    "        self.embedding = nn.Embedding.from_pretrained(torch.FloatTensor(weights),padding_idx=key_to_index[\"<pad>\"],freeze=True)\n",
    "        self.biGRU = nn.GRU(50, 64, bidirectional=False, batch_first=True)\n",
    "        self.pred =  nn.Linear(64 , 2)\n",
    "    def forward(self,b):\n",
    "        bemb = self.embedding(b) \n",
    "        gru_out, _ = self.biGRU(bemb)\n",
    "        prediction_logits = self.pred(gru_out[:,-1,:])\n",
    "        return prediction_logits"
   ]
  },
  {
   "cell_type": "code",
   "execution_count": null,
   "id": "145afbab-4eed-4257-9e3a-dbab3ddcb8f8",
   "metadata": {},
   "outputs": [],
   "source": [
    "def train_func_epoch(epoch, model, dataloader, device, optimizer):\n",
    "    model.train()\n",
    "    total_loss = 0\n",
    "    with tqdm(dataloader, unit=\"batch\", total=len(dataloader)) as single_epoch:\n",
    "        \n",
    "        for step, batch in enumerate(single_epoch):\n",
    "\n",
    "            single_epoch.set_description(f\"Training- Epoch {epoch}\")\n",
    "            b, l  = batch \n",
    "            b = b.to(device)\n",
    "            l = l.to(device)\n",
    "            model.zero_grad()\n",
    "            ll = model(b)\n",
    "            loss = F.cross_entropy(ll,l)\n",
    "            total_loss += loss.item()\n",
    "            loss.backward()\n",
    "            optimizer.step()\n",
    "            model.zero_grad()\n",
    "            single_epoch.set_postfix(train_loss=total_loss/(step+1))\n",
    "    return total_loss / len(dataloader)"
   ]
  },
  {
   "cell_type": "code",
   "execution_count": null,
   "id": "01372b1b-a1a2-4c3b-af21-92aea58d5132",
   "metadata": {},
   "outputs": [],
   "source": [
    "def eval_func_epoch(model, dataloader, device, epoch):\n",
    "    model.eval()\n",
    "    total_loss = 0\n",
    "    targets = []\n",
    "    predictions = []\n",
    "    with tqdm(dataloader, unit=\"batch\", total=len(dataloader)) as single_epoch:\n",
    "        for step, batch in enumerate(single_epoch):\n",
    "            single_epoch.set_description(f\"Evaluating- Epoch {epoch}\")\n",
    "            b, l  = batch \n",
    "            b = b.to(device)\n",
    "            l = l.to(device)\n",
    "            model.zero_grad()\n",
    "            with torch.no_grad():\n",
    "                ll = model(b)\n",
    "                loss = F.cross_entropy(ll,l)\n",
    "                total_loss += loss.item()\n",
    "            single_epoch.set_postfix(train_loss=total_loss/(step+1))\n",
    "            pred = torch.argmax(ll, dim=1).flatten().cpu().numpy()\n",
    "            predictions.append(pred)\n",
    "            targets.append(l.cpu().numpy())\n",
    "    targets = np.concatenate(targets, axis=0)\n",
    "    predictions = np.concatenate(predictions, axis=0)\n",
    "    epoch_validation_loss = total_loss/len(dataloader)\n",
    "    report = classification_report(targets, predictions, output_dict=True, labels=[0,1])\n",
    "    tn, fp, fn, tp = confusion_matrix(targets, predictions).ravel()\n",
    "    if epoch == \"TESTING\":\n",
    "        ConfusionMatrixDisplay.from_predictions(targets, predictions)\n",
    "        plt.savefig(\"confusion.png\",dpi=300)\n",
    "    return epoch_validation_loss, report, tn, fp, fn, tp"
   ]
  },
  {
   "cell_type": "code",
   "execution_count": null,
   "id": "5710b690-69ac-4d5f-82e7-3d2fbad8f97e",
   "metadata": {},
   "outputs": [],
   "source": [
    "model = Model()\n",
    "model_path=\"models/model.pt\"\n",
    "if load :\n",
    "    loaded_state_dict = torch.load(model_path,  map_location=device)\n",
    "    model.load_state_dict(loaded_state_dict)  \n",
    "opt = optim.Adam(model.parameters(),lr = 1e-5)\n",
    "model.to(device)\n",
    "batch_size=16\n",
    "epochs=30"
   ]
  },
  {
   "cell_type": "code",
   "execution_count": null,
   "id": "f6a0e8c3-f894-49b0-b663-675bddac3985",
   "metadata": {},
   "outputs": [],
   "source": [
    "train_df = pd.read_csv(\"../../data/clean/train.csv\")#.head(500)\n",
    "test_df = pd.read_csv(\"../../data/clean/train.csv\")#.head(500)\n",
    "val_df = pd.read_csv(\"../../data/clean/val.csv\")#.head(500)\n",
    "train_data = ClickBaitDataSet(train_df,model.tokenizer)\n",
    "test_data = ClickBaitDataSet(test_df,model.tokenizer)\n",
    "val_data = ClickBaitDataSet(val_df,model.tokenizer)\n",
    "train_data_loader = DataLoader(train_data, batch_size=batch_size)\n",
    "val_data_loader = DataLoader(val_data, batch_size=batch_size)\n",
    "test_data_loader = DataLoader(test_data, batch_size=batch_size)"
   ]
  },
  {
   "cell_type": "code",
   "execution_count": null,
   "id": "13bd0143-0499-483f-a9d8-93e509c10f77",
   "metadata": {},
   "outputs": [],
   "source": [
    "best_loss = np.inf\n",
    "best_epoch = 0\n",
    "for epoch in range(epochs):\n",
    "    print(f\"\\n---------------------- Epoch: {epoch+1} ---------------------------------- \\n\")\n",
    "    ## Training Loop\n",
    "    train_loss = train_func_epoch(epoch+1, model, train_data_loader, device, opt)\n",
    "    ## Validation loop\n",
    "    val_loss, report, tn, fp, fn, tp = eval_func_epoch(model, val_data_loader, device, epoch+1)\n",
    "    print(f\"\\nEpoch: {epoch+1} | Training loss: {train_loss} | Validation Loss: {val_loss}\")\n",
    "    print()\n",
    "    print(report)\n",
    "    print()\n",
    "    print(f\"TP: {tp} | FP: {fp} | TN: {tn}, FN: {fn} \")\n",
    "    print(f\"\\n----------------------------------------------------------------------------\")\n",
    "    ## Save the model \n",
    "    if (val_loss < best_loss):\n",
    "        torch.save(model.state_dict(), model_path)\n",
    "        best_loss = val_loss\n",
    "        best_epoch = epoch+1"
   ]
  },
  {
   "cell_type": "code",
   "execution_count": null,
   "id": "e0b7f59f-bf0e-4dc0-96bd-f0c5a24e630f",
   "metadata": {},
   "outputs": [],
   "source": [
    "loaded_state_dict = torch.load(model_path,  map_location=device)\n",
    "model.load_state_dict(loaded_state_dict)\n",
    "print(f\"\\n---------------------- Testing best model (at epoch: {best_epoch} )---------------------------------- \\n\")\n",
    "test_loss,report, tn, fp, fn, tp = eval_func_epoch(model, test_data_loader, device, \"TESTING\")\n",
    "print(f\"\\nTest loss: {test_loss}\")\n",
    "print()\n",
    "print(report)\n",
    "print()\n",
    "print(f\"TP: {tp} | FP: {fp} | TN: {tn}, FN: {fn} \")\n",
    "\n",
    "with open(\"./report.json\",\"w\") as f:\n",
    "    json.dump(report,f,indent=4) "
   ]
  },
  {
   "cell_type": "code",
   "execution_count": null,
   "id": "c0ef75fc-1f48-4cda-8249-712a2e6e4f19",
   "metadata": {},
   "outputs": [],
   "source": []
  }
 ],
 "metadata": {
  "kernelspec": {
   "display_name": "Python 3 (ipykernel)",
   "language": "python",
   "name": "python3"
  },
  "language_info": {
   "codemirror_mode": {
    "name": "ipython",
    "version": 3
   },
   "file_extension": ".py",
   "mimetype": "text/x-python",
   "name": "python",
   "nbconvert_exporter": "python",
   "pygments_lexer": "ipython3",
   "version": "3.7.0"
  }
 },
 "nbformat": 4,
 "nbformat_minor": 5
}
