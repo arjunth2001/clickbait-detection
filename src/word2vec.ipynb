{
 "cells": [
  {
   "cell_type": "code",
   "execution_count": null,
   "id": "2a9b4cf1-bfa4-4caa-beff-6dc90e92f593",
   "metadata": {},
   "outputs": [],
   "source": [
    "import json\n",
    "import logging\n",
    "logging.basicConfig(format=\"%(asctime)s:%(levelname)s:%(message)s\",\n",
    "                    level=logging.INFO)"
   ]
  },
  {
   "cell_type": "code",
   "execution_count": null,
   "id": "c1b8708f-ddab-40a0-9226-4a403b863d94",
   "metadata": {},
   "outputs": [],
   "source": [
    "with open(\"../data/clean/corpus.json\") as f:\n",
    "    corpus = json.load(f)\n",
    "    corpus = [s.split() for s in corpus]"
   ]
  },
  {
   "cell_type": "code",
   "execution_count": null,
   "id": "430982e9-2e95-4c49-8813-0b25fd4184d9",
   "metadata": {},
   "outputs": [],
   "source": [
    "from gensim.models import Word2Vec"
   ]
  },
  {
   "cell_type": "code",
   "execution_count": null,
   "id": "0b68d0eb-17e5-4741-902e-f568eae9f5d3",
   "metadata": {
    "scrolled": true,
    "tags": []
   },
   "outputs": [],
   "source": [
    "model = Word2Vec(corpus,min_count=5,vector_size=300,max_vocab_size=100000,workers=12,epochs=200,sg=0,cbow_mean=1)"
   ]
  },
  {
   "cell_type": "code",
   "execution_count": null,
   "id": "340f0b69-4b44-49c6-b6be-d3d92f30de2d",
   "metadata": {},
   "outputs": [],
   "source": [
    "model.save(\"models/word2vec.model\")"
   ]
  },
  {
   "cell_type": "code",
   "execution_count": null,
   "id": "d020d8ff-1501-4ff9-a4b9-8a64b5c40abc",
   "metadata": {},
   "outputs": [],
   "source": [
    "model.wv.save_word2vec_format('models/word2vec.bin', binary=True)"
   ]
  }
 ],
 "metadata": {
  "kernelspec": {
   "display_name": "Python 3 (ipykernel)",
   "language": "python",
   "name": "python3"
  },
  "language_info": {
   "codemirror_mode": {
    "name": "ipython",
    "version": 3
   },
   "file_extension": ".py",
   "mimetype": "text/x-python",
   "name": "python",
   "nbconvert_exporter": "python",
   "pygments_lexer": "ipython3",
   "version": "3.7.0"
  }
 },
 "nbformat": 4,
 "nbformat_minor": 5
}
