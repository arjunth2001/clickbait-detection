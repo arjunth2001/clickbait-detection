{
 "cells": [
  {
   "cell_type": "code",
   "execution_count": null,
   "id": "0e18bd8a-0827-49ad-b3f9-bcb37f3ee9d9",
   "metadata": {},
   "outputs": [],
   "source": [
    "from gensim.models import KeyedVectors\n",
    "import numpy as np\n",
    "import json"
   ]
  },
  {
   "cell_type": "code",
   "execution_count": null,
   "id": "bdc458e0-2159-41f5-b06d-110bdc3860fc",
   "metadata": {},
   "outputs": [],
   "source": [
    "model = KeyedVectors.load_word2vec_format(\"./models/word2vec.bin\", binary=True)"
   ]
  },
  {
   "cell_type": "code",
   "execution_count": null,
   "id": "13c2bfef-865d-4545-8685-8ab7744b0940",
   "metadata": {},
   "outputs": [],
   "source": [
    "index_to_key = model.index_to_key"
   ]
  },
  {
   "cell_type": "code",
   "execution_count": null,
   "id": "5e4dd719-750c-4d4d-a14a-8e91dfc0aa8a",
   "metadata": {},
   "outputs": [],
   "source": [
    "key_to_index = model.key_to_index"
   ]
  },
  {
   "cell_type": "code",
   "execution_count": null,
   "id": "8be43154-2a6f-4f24-b25a-b14a3b5f03a8",
   "metadata": {},
   "outputs": [],
   "source": [
    "vocab = set(key_to_index.keys())"
   ]
  },
  {
   "cell_type": "code",
   "execution_count": null,
   "id": "99d05f7c-2fa8-423b-943c-ab714d14966e",
   "metadata": {},
   "outputs": [],
   "source": [
    "len(vocab)"
   ]
  },
  {
   "cell_type": "code",
   "execution_count": null,
   "id": "62997581-0f9f-4129-b0c7-0340ead8147c",
   "metadata": {},
   "outputs": [],
   "source": [
    "import pandas as pd\n",
    "df = pd.read_csv(\"../data/clean/val.csv\")"
   ]
  },
  {
   "cell_type": "code",
   "execution_count": null,
   "id": "b9e7912c-d3ba-42d8-b749-5d3927362f95",
   "metadata": {},
   "outputs": [],
   "source": [
    "df"
   ]
  },
  {
   "cell_type": "code",
   "execution_count": null,
   "id": "66d5a9b8-dc2f-4732-87d1-4f56411dccae",
   "metadata": {},
   "outputs": [],
   "source": [
    "words = set()"
   ]
  },
  {
   "cell_type": "code",
   "execution_count": null,
   "id": "5e586150-0361-4761-bed0-b6d18d2e2018",
   "metadata": {},
   "outputs": [],
   "source": [
    "df[\"heading\"].apply(lambda x: words.update(str(x).split()))"
   ]
  },
  {
   "cell_type": "code",
   "execution_count": null,
   "id": "ea580344-18df-4895-8889-34beeec60008",
   "metadata": {},
   "outputs": [],
   "source": [
    "df[\"body\"].apply(lambda x: words.update(str(x).strip(\".\").split()))"
   ]
  },
  {
   "cell_type": "code",
   "execution_count": null,
   "id": "2e542f48-fa3c-4916-98d1-d74409f5888f",
   "metadata": {},
   "outputs": [],
   "source": [
    "not_in_vocab = words - vocab"
   ]
  },
  {
   "cell_type": "code",
   "execution_count": null,
   "id": "0f53ae2b-422b-4dd0-85f2-a78dc439537b",
   "metadata": {},
   "outputs": [],
   "source": [
    "len(words)"
   ]
  },
  {
   "cell_type": "code",
   "execution_count": null,
   "id": "8e19036a-68e0-49a1-9436-59deedd4fd25",
   "metadata": {},
   "outputs": [],
   "source": [
    "len(not_in_vocab)"
   ]
  },
  {
   "cell_type": "code",
   "execution_count": null,
   "id": "9be2bd90-cb4e-4a2d-8648-875c92eed242",
   "metadata": {},
   "outputs": [],
   "source": [
    "not_in_vocab"
   ]
  },
  {
   "cell_type": "code",
   "execution_count": null,
   "id": "3ccb270a-884a-423a-83f4-f3c5ca2f1be3",
   "metadata": {},
   "outputs": [],
   "source": []
  }
 ],
 "metadata": {
  "kernelspec": {
   "display_name": "Python 3 (ipykernel)",
   "language": "python",
   "name": "python3"
  },
  "language_info": {
   "codemirror_mode": {
    "name": "ipython",
    "version": 3
   },
   "file_extension": ".py",
   "mimetype": "text/x-python",
   "name": "python",
   "nbconvert_exporter": "python",
   "pygments_lexer": "ipython3",
   "version": "3.7.0"
  }
 },
 "nbformat": 4,
 "nbformat_minor": 5
}
