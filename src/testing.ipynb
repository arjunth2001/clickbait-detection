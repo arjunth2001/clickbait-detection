{
 "cells": [
  {
   "cell_type": "code",
   "execution_count": 14,
   "id": "0e18bd8a-0827-49ad-b3f9-bcb37f3ee9d9",
   "metadata": {},
   "outputs": [],
   "source": [
    "from gensim.models import KeyedVectors\n",
    "import numpy as np\n",
    "import json"
   ]
  },
  {
   "cell_type": "code",
   "execution_count": 15,
   "id": "bdc458e0-2159-41f5-b06d-110bdc3860fc",
   "metadata": {},
   "outputs": [],
   "source": [
    "model = KeyedVectors.load_word2vec_format(\"word2vec-google-news-300.gz\", binary=True,limit=50000)"
   ]
  },
  {
   "cell_type": "code",
   "execution_count": 16,
   "id": "13c2bfef-865d-4545-8685-8ab7744b0940",
   "metadata": {},
   "outputs": [],
   "source": [
    "index_to_key = model.index_to_key"
   ]
  },
  {
   "cell_type": "code",
   "execution_count": 17,
   "id": "5e4dd719-750c-4d4d-a14a-8e91dfc0aa8a",
   "metadata": {},
   "outputs": [],
   "source": [
    "key_to_index = model.key_to_index"
   ]
  },
  {
   "cell_type": "code",
   "execution_count": 18,
   "id": "8be43154-2a6f-4f24-b25a-b14a3b5f03a8",
   "metadata": {},
   "outputs": [],
   "source": [
    "vocab = set(key_to_index.keys())"
   ]
  },
  {
   "cell_type": "code",
   "execution_count": 19,
   "id": "62997581-0f9f-4129-b0c7-0340ead8147c",
   "metadata": {},
   "outputs": [],
   "source": [
    "import pandas as pd\n",
    "df = pd.read_csv(\"../data/clean/train.csv\")"
   ]
  },
  {
   "cell_type": "code",
   "execution_count": 20,
   "id": "b9e7912c-d3ba-42d8-b749-5d3927362f95",
   "metadata": {},
   "outputs": [
    {
     "data": {
      "text/html": [
       "<div>\n",
       "<style scoped>\n",
       "    .dataframe tbody tr th:only-of-type {\n",
       "        vertical-align: middle;\n",
       "    }\n",
       "\n",
       "    .dataframe tbody tr th {\n",
       "        vertical-align: top;\n",
       "    }\n",
       "\n",
       "    .dataframe thead th {\n",
       "        text-align: right;\n",
       "    }\n",
       "</style>\n",
       "<table border=\"1\" class=\"dataframe\">\n",
       "  <thead>\n",
       "    <tr style=\"text-align: right;\">\n",
       "      <th></th>\n",
       "      <th>heading</th>\n",
       "      <th>body</th>\n",
       "      <th>label</th>\n",
       "    </tr>\n",
       "  </thead>\n",
       "  <tbody>\n",
       "    <tr>\n",
       "      <th>0</th>\n",
       "      <td>two gop congressman say suspect terrorist caug...</td>\n",
       "      <td>a -year-old canadian-israeli woman who travel ...</td>\n",
       "      <td>1</td>\n",
       "    </tr>\n",
       "    <tr>\n",
       "      <th>1</th>\n",
       "      <td>jasmine tridevil woman with three breast denie...</td>\n",
       "      <td>saudi arabia’s national airline carrier be pla...</td>\n",
       "      <td>1</td>\n",
       "    </tr>\n",
       "    <tr>\n",
       "      <th>2</th>\n",
       "      <td>drake late project be a playlist — a format th...</td>\n",
       "      <td>for almost a decade drake have be a star and a...</td>\n",
       "      <td>0</td>\n",
       "    </tr>\n",
       "    <tr>\n",
       "      <th>3</th>\n",
       "      <td>police woman “trained” to poison kim jong un’s...</td>\n",
       "      <td>kuala lumpur malaysia -- the two woman suspect...</td>\n",
       "      <td>0</td>\n",
       "    </tr>\n",
       "    <tr>\n",
       "      <th>4</th>\n",
       "      <td>u official russian drone may have turn camera ...</td>\n",
       "      <td>david choi business insider 8.. 1 facebook lin...</td>\n",
       "      <td>0</td>\n",
       "    </tr>\n",
       "    <tr>\n",
       "      <th>...</th>\n",
       "      <td>...</td>\n",
       "      <td>...</td>\n",
       "      <td>...</td>\n",
       "    </tr>\n",
       "    <tr>\n",
       "      <th>93647</th>\n",
       "      <td>there’s a catch with opec’s plan to cut produc...</td>\n",
       "      <td>’ ’ ’ opec ’ ’ ’ ’ additionally also agree to ...</td>\n",
       "      <td>0</td>\n",
       "    </tr>\n",
       "    <tr>\n",
       "      <th>93648</th>\n",
       "      <td>no pumpkin spice condom be not a real thing</td>\n",
       "      <td>the man know a jihadi john. photo reuters the ...</td>\n",
       "      <td>1</td>\n",
       "    </tr>\n",
       "    <tr>\n",
       "      <th>93649</th>\n",
       "      <td>video show isil beheading of photojournalist j...</td>\n",
       "      <td>a touch tribute to the victim of the charlie h...</td>\n",
       "      <td>1</td>\n",
       "    </tr>\n",
       "    <tr>\n",
       "      <th>93650</th>\n",
       "      <td>canada probe michael zehaf-bibeau a possible s...</td>\n",
       "      <td>the man behind the ottawa shooting be a canadi...</td>\n",
       "      <td>0</td>\n",
       "    </tr>\n",
       "    <tr>\n",
       "      <th>93651</th>\n",
       "      <td>white house threaten james foleys family with ...</td>\n",
       "      <td>a -year-old man can no longer use his penis af...</td>\n",
       "      <td>1</td>\n",
       "    </tr>\n",
       "  </tbody>\n",
       "</table>\n",
       "<p>93652 rows × 3 columns</p>\n",
       "</div>"
      ],
      "text/plain": [
       "                                                 heading  \\\n",
       "0      two gop congressman say suspect terrorist caug...   \n",
       "1      jasmine tridevil woman with three breast denie...   \n",
       "2      drake late project be a playlist — a format th...   \n",
       "3      police woman “trained” to poison kim jong un’s...   \n",
       "4      u official russian drone may have turn camera ...   \n",
       "...                                                  ...   \n",
       "93647  there’s a catch with opec’s plan to cut produc...   \n",
       "93648        no pumpkin spice condom be not a real thing   \n",
       "93649  video show isil beheading of photojournalist j...   \n",
       "93650  canada probe michael zehaf-bibeau a possible s...   \n",
       "93651  white house threaten james foleys family with ...   \n",
       "\n",
       "                                                    body  label  \n",
       "0      a -year-old canadian-israeli woman who travel ...      1  \n",
       "1      saudi arabia’s national airline carrier be pla...      1  \n",
       "2      for almost a decade drake have be a star and a...      0  \n",
       "3      kuala lumpur malaysia -- the two woman suspect...      0  \n",
       "4      david choi business insider 8.. 1 facebook lin...      0  \n",
       "...                                                  ...    ...  \n",
       "93647  ’ ’ ’ opec ’ ’ ’ ’ additionally also agree to ...      0  \n",
       "93648  the man know a jihadi john. photo reuters the ...      1  \n",
       "93649  a touch tribute to the victim of the charlie h...      1  \n",
       "93650  the man behind the ottawa shooting be a canadi...      0  \n",
       "93651  a -year-old man can no longer use his penis af...      1  \n",
       "\n",
       "[93652 rows x 3 columns]"
      ]
     },
     "execution_count": 20,
     "metadata": {},
     "output_type": "execute_result"
    }
   ],
   "source": [
    "df"
   ]
  },
  {
   "cell_type": "code",
   "execution_count": 21,
   "id": "66d5a9b8-dc2f-4732-87d1-4f56411dccae",
   "metadata": {},
   "outputs": [],
   "source": [
    "words = set()"
   ]
  },
  {
   "cell_type": "code",
   "execution_count": 22,
   "id": "5e586150-0361-4761-bed0-b6d18d2e2018",
   "metadata": {},
   "outputs": [
    {
     "data": {
      "text/plain": [
       "0        None\n",
       "1        None\n",
       "2        None\n",
       "3        None\n",
       "4        None\n",
       "         ... \n",
       "93647    None\n",
       "93648    None\n",
       "93649    None\n",
       "93650    None\n",
       "93651    None\n",
       "Name: heading, Length: 93652, dtype: object"
      ]
     },
     "execution_count": 22,
     "metadata": {},
     "output_type": "execute_result"
    }
   ],
   "source": [
    "df[\"heading\"].apply(lambda x: words.update(str(x).split()))"
   ]
  },
  {
   "cell_type": "code",
   "execution_count": 23,
   "id": "ea580344-18df-4895-8889-34beeec60008",
   "metadata": {},
   "outputs": [
    {
     "data": {
      "text/plain": [
       "0        None\n",
       "1        None\n",
       "2        None\n",
       "3        None\n",
       "4        None\n",
       "         ... \n",
       "93647    None\n",
       "93648    None\n",
       "93649    None\n",
       "93650    None\n",
       "93651    None\n",
       "Name: body, Length: 93652, dtype: object"
      ]
     },
     "execution_count": 23,
     "metadata": {},
     "output_type": "execute_result"
    }
   ],
   "source": [
    "df[\"body\"].apply(lambda x: words.update(str(x).split()))"
   ]
  },
  {
   "cell_type": "code",
   "execution_count": 24,
   "id": "2e542f48-fa3c-4916-98d1-d74409f5888f",
   "metadata": {},
   "outputs": [],
   "source": [
    "not_in_vocab = words - vocab"
   ]
  },
  {
   "cell_type": "code",
   "execution_count": 25,
   "id": "0f53ae2b-422b-4dd0-85f2-a78dc439537b",
   "metadata": {},
   "outputs": [
    {
     "data": {
      "text/plain": [
       "329676"
      ]
     },
     "execution_count": 25,
     "metadata": {},
     "output_type": "execute_result"
    }
   ],
   "source": [
    "len(words)"
   ]
  },
  {
   "cell_type": "code",
   "execution_count": 26,
   "id": "8e19036a-68e0-49a1-9436-59deedd4fd25",
   "metadata": {},
   "outputs": [
    {
     "data": {
      "text/plain": [
       "311183"
      ]
     },
     "execution_count": 26,
     "metadata": {},
     "output_type": "execute_result"
    }
   ],
   "source": [
    "len(not_in_vocab)"
   ]
  },
  {
   "cell_type": "code",
   "execution_count": null,
   "id": "9be2bd90-cb4e-4a2d-8648-875c92eed242",
   "metadata": {},
   "outputs": [],
   "source": []
  }
 ],
 "metadata": {
  "kernelspec": {
   "display_name": "Python 3 (ipykernel)",
   "language": "python",
   "name": "python3"
  },
  "language_info": {
   "codemirror_mode": {
    "name": "ipython",
    "version": 3
   },
   "file_extension": ".py",
   "mimetype": "text/x-python",
   "name": "python",
   "nbconvert_exporter": "python",
   "pygments_lexer": "ipython3",
   "version": "3.7.0"
  }
 },
 "nbformat": 4,
 "nbformat_minor": 5
}
