{
 "cells": [
  {
   "cell_type": "code",
   "execution_count": null,
   "id": "4a7f132c-7aad-4988-8883-bef561fd2790",
   "metadata": {},
   "outputs": [],
   "source": [
    "import pandas as pd\n",
    "from tqdm.notebook import tqdm\n",
    "import json\n",
    "tqdm.pandas()"
   ]
  },
  {
   "cell_type": "code",
   "execution_count": null,
   "id": "5a17dfd2-98b6-4e40-941b-0f696fe17da7",
   "metadata": {},
   "outputs": [],
   "source": [
    "df1 = pd.read_csv(\"train.csv\")\n",
    "df1 = df1[[\"title\",\"text\",\"label\"]]\n",
    "df1.columns = [\"heading\",\"body\",\"label\"]\n",
    "df1[\"label\"] = df1[\"label\"].progress_apply(lambda x: 1 if x == \"clickbait\" else 0)\n",
    "df1 = df1.dropna()"
   ]
  },
  {
   "cell_type": "code",
   "execution_count": null,
   "id": "2eb1a1b5-6f8e-475b-8efa-87513ba2629f",
   "metadata": {},
   "outputs": [],
   "source": [
    "df2 = pd.read_csv(\"valid.csv\")\n",
    "df2 = df2[[\"title\",\"text\",\"label\"]]\n",
    "df2.columns = [\"heading\",\"body\",\"label\"]\n",
    "df2[\"label\"] = df2[\"label\"].progress_apply(lambda x: 1 if x == \"clickbait\" else 0)\n",
    "df2 = df2.dropna()"
   ]
  },
  {
   "cell_type": "code",
   "execution_count": null,
   "id": "327c2fbc-c823-4dcf-86bf-c545717c4725",
   "metadata": {},
   "outputs": [],
   "source": [
    "bodies = pd.read_csv(\"fnc-1/train_bodies.csv\")\n",
    "headings = pd.read_csv(\"fnc-1/train_stances.csv\")\n",
    "headings[\"label\"] = headings[\"Stance\"].progress_apply(lambda x: 1 if x == \"unrelated\" else 0)\n",
    "def get_body(x):\n",
    "    for idx in range(len(bodies)):\n",
    "        if bodies[\"Body ID\"][idx] == x:\n",
    "            return bodies[\"articleBody\"][idx]\n",
    "    return None\n",
    "headings[\"body\"]=headings[\"Body ID\"].progress_apply(lambda x:get_body(x))\n",
    "df3 = headings[[\"Headline\",\"body\",\"label\"]]\n",
    "df3.columns = [\"heading\",\"body\",\"label\"]\n",
    "df3 = df3.dropna()"
   ]
  },
  {
   "cell_type": "code",
   "execution_count": null,
   "id": "71b3e788-5ca5-42bb-8a24-437395c4bae5",
   "metadata": {},
   "outputs": [],
   "source": [
    "bodies = pd.read_csv(\"fnc-1/competition_test_bodies.csv\")\n",
    "headings = pd.read_csv(\"fnc-1/competition_test_stances.csv\")\n",
    "headings[\"label\"] = headings[\"Stance\"].progress_apply(lambda x: 1 if x == \"unrelated\" else 0)\n",
    "def get_body(x):\n",
    "    for idx in range(len(bodies)):\n",
    "        if bodies[\"Body ID\"][idx] == x:\n",
    "            return bodies[\"articleBody\"][idx]\n",
    "    return None\n",
    "headings[\"body\"]=headings[\"Body ID\"].progress_apply(lambda x:get_body(x))\n",
    "df4 = headings[[\"Headline\",\"body\",\"label\"]]\n",
    "df4.columns = [\"heading\",\"body\",\"label\"]\n",
    "df4 = df4.dropna()"
   ]
  },
  {
   "cell_type": "code",
   "execution_count": null,
   "id": "3afedf09-091d-421a-ba78-ed8d26161081",
   "metadata": {},
   "outputs": [],
   "source": [
    "with open(\"clickbait17-test-170720/truth.jsonl\") as f:\n",
    "    truths = [eval(i) for i in f.readlines()]\n",
    "    truths = pd.DataFrame(truths)\n",
    "with open(\"clickbait17-test-170720/instances.jsonl\") as f:\n",
    "    instances = [eval(i) for i in f.readlines()]\n",
    "    instances = pd.DataFrame(instances)\n",
    "def get_label(x):\n",
    "    for idx in range(len(truths)):\n",
    "        if truths[\"id\"][idx] == x:\n",
    "            if truths[\"truthClass\"][idx]==\"clickbait\":\n",
    "                return 1\n",
    "            else:\n",
    "                return 0\n",
    "    return None\n",
    "instances[\"label\"] = instances[\"id\"].progress_apply(lambda x: get_label(x))\n",
    "instances[\"body\"] = instances[\"targetParagraphs\"].progress_apply(lambda x: \" \".join(x))\n",
    "instances[\"heading\"] = instances[\"postText\"].progress_apply(lambda x: \" \".join(x))\n",
    "df5 = instances[[\"heading\",\"body\",\"label\"]]\n",
    "df5 = df5.dropna()"
   ]
  },
  {
   "cell_type": "code",
   "execution_count": null,
   "id": "af85e1fd-e9f5-485c-90c5-1cf11fa23064",
   "metadata": {},
   "outputs": [],
   "source": [
    "df = pd.concat([df1,df2,df3,df4,df5],ignore_index=True)"
   ]
  },
  {
   "cell_type": "code",
   "execution_count": null,
   "id": "2d4dd6e4-90ee-4607-8bc6-7b7df720a62d",
   "metadata": {},
   "outputs": [],
   "source": [
    "df.to_csv(\"unclean/full.csv\",index=False)"
   ]
  },
  {
   "cell_type": "code",
   "execution_count": null,
   "id": "74d63d8f-81e0-4540-b934-1e1c370dfcf1",
   "metadata": {},
   "outputs": [],
   "source": [
    "df"
   ]
  },
  {
   "cell_type": "code",
   "execution_count": null,
   "id": "c184e6f3-f655-4125-8d53-c2e959d1cbdc",
   "metadata": {},
   "outputs": [],
   "source": [
    "import numpy as np\n",
    "train, validate, test = np.split(df.sample(frac=1, random_state=42), [int(.8*len(df)), int(.9*len(df))])"
   ]
  },
  {
   "cell_type": "code",
   "execution_count": null,
   "id": "76d3efd8-b249-4232-af9f-a738e37f4ad1",
   "metadata": {},
   "outputs": [],
   "source": [
    "train.to_csv(\"unclean/train.csv\",index=False)"
   ]
  },
  {
   "cell_type": "code",
   "execution_count": null,
   "id": "a437aa87-a08d-4795-8389-1732a9299743",
   "metadata": {},
   "outputs": [],
   "source": [
    "validate.to_csv(\"unclean/val.csv\",index=False)"
   ]
  },
  {
   "cell_type": "code",
   "execution_count": null,
   "id": "c1ed024b-32bc-4341-ab1f-fc732a94008f",
   "metadata": {},
   "outputs": [],
   "source": [
    "test.to_csv(\"unclean/test.csv\",index=False)"
   ]
  },
  {
   "cell_type": "code",
   "execution_count": null,
   "id": "dd1bb825-05f8-46f0-969b-a836160a5feb",
   "metadata": {},
   "outputs": [],
   "source": []
  }
 ],
 "metadata": {
  "kernelspec": {
   "display_name": "Python 3 (ipykernel)",
   "language": "python",
   "name": "python3"
  },
  "language_info": {
   "codemirror_mode": {
    "name": "ipython",
    "version": 3
   },
   "file_extension": ".py",
   "mimetype": "text/x-python",
   "name": "python",
   "nbconvert_exporter": "python",
   "pygments_lexer": "ipython3",
   "version": "3.7.0"
  }
 },
 "nbformat": 4,
 "nbformat_minor": 5
}
