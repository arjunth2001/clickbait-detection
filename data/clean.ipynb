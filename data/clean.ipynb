{
 "cells": [
  {
   "cell_type": "code",
   "execution_count": 1,
   "id": "1c82f86c-85f9-4ada-a395-ba7c17115a2f",
   "metadata": {},
   "outputs": [],
   "source": [
    "import pandas as pd\n",
    "from tqdm.notebook import tqdm\n",
    "import re\n",
    "import json\n",
    "from nltk.corpus import stopwords\n",
    "import nltk\n",
    "#nltk.download('stopwords')\n",
    "#nltk.download('wordnet')\n",
    "#nltk.download('averaged_perceptron_tagger')\n",
    "stopwords = stopwords.words('english')\n",
    "tqdm.pandas()"
   ]
  },
  {
   "cell_type": "code",
   "execution_count": 2,
   "id": "a58d9ac1-d0ac-443b-bc91-7f032bc2add5",
   "metadata": {},
   "outputs": [],
   "source": [
    "def remove_emoji(string):\n",
    "    emoji_pattern = re.compile(\"[\"\n",
    "                           u\"\\U0001F600-\\U0001F64F\" # emoticons\n",
    "                           u\"\\U0001F300-\\U0001F5FF\" # symbols & pictographs\n",
    "                           u\"\\U0001F680-\\U0001F6FF\" # transport & map symbols\n",
    "                           u\"\\U0001F1E0-\\U0001F1FF\" # flags (iOS)\n",
    "                           u\"\\U00002702-\\U000027B0\"\n",
    "                           u\"\\U000024C2-\\U0001F251\"\n",
    "                           \"]+\", flags=re.UNICODE)\n",
    "    return emoji_pattern.sub(r'', string)"
   ]
  },
  {
   "cell_type": "code",
   "execution_count": 3,
   "id": "0b6cb170",
   "metadata": {},
   "outputs": [],
   "source": [
    "# Some imports and global variables related to lemmatization\n",
    "from nltk.corpus import wordnet as wn\n",
    "from nltk.stem.wordnet import WordNetLemmatizer\n",
    "from nltk import pos_tag\n",
    "from collections import defaultdict\n",
    "\n",
    "tree_tag_map = defaultdict(lambda : wn.NOUN)\n",
    "tree_tag_map['J'], tree_tag_map['V'], tree_tag_map['R'] = wn.ADJ, wn.VERB, wn.ADV\n",
    "lemmatize_function = WordNetLemmatizer()\n",
    "lemmatized_words_dp, LEMMATIZE_DP_LIMIT = {}, 500000"
   ]
  },
  {
   "cell_type": "code",
   "execution_count": 4,
   "id": "7be9c785",
   "metadata": {},
   "outputs": [],
   "source": [
    "def do_lemmatize(token):\n",
    "    if lemmatized_words_dp.get(token):\n",
    "        return lemmatized_words_dp[token]\n",
    "    new_token = [lemmatize_function.lemmatize(token, tree_tag_map[tag[0]]) for token, tag in pos_tag([token])]\n",
    "    if len(lemmatized_words_dp) != LEMMATIZE_DP_LIMIT:\n",
    "        lemmatized_words_dp[token] = new_token[0]\n",
    "    return new_token[0]"
   ]
  },
  {
   "cell_type": "code",
   "execution_count": 5,
   "id": "7db9bb98-adf5-465d-9739-0f4628ab7463",
   "metadata": {},
   "outputs": [],
   "source": [
    "def clean_text(x):\n",
    "    x = str(x).lower()\n",
    "    x = remove_emoji(x)\n",
    "    x = re.sub(\"@[A-Za-z0-9]+\",\" \", x) # remove user IDs\n",
    "    x = re.sub(\"(http://.*?\\s)|(http://.*)\",' ',str(x)) #remove http links in the text\n",
    "    x = re.sub(\"\\d{1,3}\\.\\d{1,3}\\.\\d{1,3}\\.\\d{1,3}\",' ',str(x)) # remove IP addresses\n",
    "    x = re.sub('[!\"#$%&\\()*+,.-/:;<=>?@[\\\\]^_`{|}~]',' ',str(x)) #remove all punctuation\n",
    "    #x = x.split(\" \")\n",
    "    x = re.split(\"\\||/|\\=|_|\\:|\\+|,|~|\\^|#|\\[|\\]|\\(|\\)|\\{|\\}|<|>|\\!|&|;|\\?|\\*|%|\\$|@|`| |-\", x)\n",
    "    x = [i.strip(\"|/=.-_:'+,~^#[](){}<>!&;?*%$@`\\\"\") for i in x if i not in stopwords]\n",
    "    x = [do_lemmatize(w) for w in x]\n",
    "    x = \" \".join(x)\n",
    "    x = ' '.join(re.sub(\"[\\.]\", \" \", x).split())\n",
    "    return x"
   ]
  },
  {
   "cell_type": "code",
   "execution_count": 6,
   "id": "a7c658dc-f417-4bdf-9f4f-454e8c0f590c",
   "metadata": {},
   "outputs": [],
   "source": [
    "train = pd.read_csv(\"unclean/train.csv\")\n",
    "test = pd.read_csv(\"unclean/test.csv\")\n",
    "val = pd.read_csv(\"unclean/val.csv\")"
   ]
  },
  {
   "cell_type": "code",
   "execution_count": 7,
   "id": "ab801f4b-56f8-47d6-9d64-3c659a8d9924",
   "metadata": {},
   "outputs": [
    {
     "data": {
      "application/vnd.jupyter.widget-view+json": {
       "model_id": "b4324a8b44e14a62a6f2e56224f4e16a",
       "version_major": 2,
       "version_minor": 0
      },
      "text/plain": [
       "  0%|          | 0/93652 [00:00<?, ?it/s]"
      ]
     },
     "metadata": {},
     "output_type": "display_data"
    },
    {
     "data": {
      "application/vnd.jupyter.widget-view+json": {
       "model_id": "a17e86089cf74729b8e70ae6393ba7c1",
       "version_major": 2,
       "version_minor": 0
      },
      "text/plain": [
       "  0%|          | 0/93652 [00:00<?, ?it/s]"
      ]
     },
     "metadata": {},
     "output_type": "display_data"
    },
    {
     "data": {
      "application/vnd.jupyter.widget-view+json": {
       "model_id": "3223dc663e9e404698b3a3fc1c701a40",
       "version_major": 2,
       "version_minor": 0
      },
      "text/plain": [
       "  0%|          | 0/11707 [00:00<?, ?it/s]"
      ]
     },
     "metadata": {},
     "output_type": "display_data"
    },
    {
     "data": {
      "application/vnd.jupyter.widget-view+json": {
       "model_id": "eb36756715be4d33a3db103be2af7f84",
       "version_major": 2,
       "version_minor": 0
      },
      "text/plain": [
       "  0%|          | 0/11707 [00:00<?, ?it/s]"
      ]
     },
     "metadata": {},
     "output_type": "display_data"
    },
    {
     "data": {
      "application/vnd.jupyter.widget-view+json": {
       "model_id": "f5f23fc42d7943928484e1aa9f6a119d",
       "version_major": 2,
       "version_minor": 0
      },
      "text/plain": [
       "  0%|          | 0/11706 [00:00<?, ?it/s]"
      ]
     },
     "metadata": {},
     "output_type": "display_data"
    },
    {
     "data": {
      "application/vnd.jupyter.widget-view+json": {
       "model_id": "f1455dd9d9f44f49965b0d19b72c1a16",
       "version_major": 2,
       "version_minor": 0
      },
      "text/plain": [
       "  0%|          | 0/11706 [00:00<?, ?it/s]"
      ]
     },
     "metadata": {},
     "output_type": "display_data"
    }
   ],
   "source": [
    "train[\"heading\"] = train[\"heading\"].progress_apply(lambda x: clean_text(x))\n",
    "train[\"body\"] = train[\"body\"].progress_apply(lambda x: clean_text(x))\n",
    "test[\"heading\"] = test[\"heading\"].progress_apply(lambda x: clean_text(x))\n",
    "test[\"body\"] = test[\"body\"].progress_apply(lambda x: clean_text(x))\n",
    "val[\"heading\"] = val[\"heading\"].progress_apply(lambda x: clean_text(x))\n",
    "val[\"body\"] = val[\"body\"].progress_apply(lambda x: clean_text(x))"
   ]
  },
  {
   "cell_type": "code",
   "execution_count": 8,
   "id": "4f6e5380-06d6-4654-a62d-11fd126d9e4b",
   "metadata": {},
   "outputs": [],
   "source": [
    "train.to_csv(\"clean/train.csv\",index=False)\n",
    "test.to_csv(\"clean/test.csv\",index=False)\n",
    "val.to_csv(\"clean/val.csv\",index=False)"
   ]
  },
  {
   "cell_type": "code",
   "execution_count": 9,
   "id": "a2def6ea-5360-4f9e-b216-af42343e88bb",
   "metadata": {},
   "outputs": [
    {
     "name": "stdout",
     "output_type": "stream",
     "text": [
      "Done\n"
     ]
    }
   ],
   "source": [
    "print(\"Done\")"
   ]
  },
  {
   "cell_type": "code",
   "execution_count": 10,
   "id": "3932cf53-66f4-47e2-bc55-4542f7f0ff00",
   "metadata": {},
   "outputs": [],
   "source": [
    "df = pd.read_csv(\"clean/train.csv\")"
   ]
  },
  {
   "cell_type": "code",
   "execution_count": 11,
   "id": "f641e0f2-55b3-44d7-8dad-147153804d1a",
   "metadata": {},
   "outputs": [
    {
     "data": {
      "text/html": [
       "<div>\n",
       "<style scoped>\n",
       "    .dataframe tbody tr th:only-of-type {\n",
       "        vertical-align: middle;\n",
       "    }\n",
       "\n",
       "    .dataframe tbody tr th {\n",
       "        vertical-align: top;\n",
       "    }\n",
       "\n",
       "    .dataframe thead th {\n",
       "        text-align: right;\n",
       "    }\n",
       "</style>\n",
       "<table border=\"1\" class=\"dataframe\">\n",
       "  <thead>\n",
       "    <tr style=\"text-align: right;\">\n",
       "      <th></th>\n",
       "      <th>heading</th>\n",
       "      <th>body</th>\n",
       "      <th>label</th>\n",
       "    </tr>\n",
       "  </thead>\n",
       "  <tbody>\n",
       "    <tr>\n",
       "      <th>0</th>\n",
       "      <td>two gop congressman say suspect terrorist caug...</td>\n",
       "      <td>31 year old canadian israeli woman travel iraq...</td>\n",
       "      <td>1</td>\n",
       "    </tr>\n",
       "    <tr>\n",
       "      <th>1</th>\n",
       "      <td>jasmine tridevil woman three breast denies sur...</td>\n",
       "      <td>saudi arabia’s national airline carrier planni...</td>\n",
       "      <td>1</td>\n",
       "    </tr>\n",
       "    <tr>\n",
       "      <th>2</th>\n",
       "      <td>drake's late project playlist — format hadn’t ...</td>\n",
       "      <td>almost decade drake star also curator artist r...</td>\n",
       "      <td>0</td>\n",
       "    </tr>\n",
       "    <tr>\n",
       "      <th>3</th>\n",
       "      <td>police woman “trained” poison kim jong un’s ha...</td>\n",
       "      <td>kuala lumpur malaysia two woman suspect fatall...</td>\n",
       "      <td>0</td>\n",
       "    </tr>\n",
       "    <tr>\n",
       "      <th>4</th>\n",
       "      <td>u official russian drone may turn camera right...</td>\n",
       "      <td>david choi business insider 8 04 2017 03 00 1 ...</td>\n",
       "      <td>0</td>\n",
       "    </tr>\n",
       "    <tr>\n",
       "      <th>...</th>\n",
       "      <td>...</td>\n",
       "      <td>...</td>\n",
       "      <td>...</td>\n",
       "    </tr>\n",
       "    <tr>\n",
       "      <th>93647</th>\n",
       "      <td>there’s catch opec’s plan cut production</td>\n",
       "      <td>’ ’ ’ opec ’ ’ ’ ’ additionally also agree tag...</td>\n",
       "      <td>0</td>\n",
       "    </tr>\n",
       "    <tr>\n",
       "      <th>93648</th>\n",
       "      <td>pumpkin spice condom real thing</td>\n",
       "      <td>man know jihadi john photo reuters the world k...</td>\n",
       "      <td>1</td>\n",
       "    </tr>\n",
       "    <tr>\n",
       "      <th>93649</th>\n",
       "      <td>video show isil beheading photojournalist jame...</td>\n",
       "      <td>touch tribute victim charlie hebdo shoot post ...</td>\n",
       "      <td>1</td>\n",
       "    </tr>\n",
       "    <tr>\n",
       "      <th>93650</th>\n",
       "      <td>canada probe michael zehaf bibeau possible sus...</td>\n",
       "      <td>man behind ottawa shooting canadian convert is...</td>\n",
       "      <td>0</td>\n",
       "    </tr>\n",
       "    <tr>\n",
       "      <th>93651</th>\n",
       "      <td>white house threaten james foley's family pros...</td>\n",
       "      <td>25 year old man longer use penis 17 year old g...</td>\n",
       "      <td>1</td>\n",
       "    </tr>\n",
       "  </tbody>\n",
       "</table>\n",
       "<p>93652 rows × 3 columns</p>\n",
       "</div>"
      ],
      "text/plain": [
       "                                                 heading  \\\n",
       "0      two gop congressman say suspect terrorist caug...   \n",
       "1      jasmine tridevil woman three breast denies sur...   \n",
       "2      drake's late project playlist — format hadn’t ...   \n",
       "3      police woman “trained” poison kim jong un’s ha...   \n",
       "4      u official russian drone may turn camera right...   \n",
       "...                                                  ...   \n",
       "93647           there’s catch opec’s plan cut production   \n",
       "93648                    pumpkin spice condom real thing   \n",
       "93649  video show isil beheading photojournalist jame...   \n",
       "93650  canada probe michael zehaf bibeau possible sus...   \n",
       "93651  white house threaten james foley's family pros...   \n",
       "\n",
       "                                                    body  label  \n",
       "0      31 year old canadian israeli woman travel iraq...      1  \n",
       "1      saudi arabia’s national airline carrier planni...      1  \n",
       "2      almost decade drake star also curator artist r...      0  \n",
       "3      kuala lumpur malaysia two woman suspect fatall...      0  \n",
       "4      david choi business insider 8 04 2017 03 00 1 ...      0  \n",
       "...                                                  ...    ...  \n",
       "93647  ’ ’ ’ opec ’ ’ ’ ’ additionally also agree tag...      0  \n",
       "93648  man know jihadi john photo reuters the world k...      1  \n",
       "93649  touch tribute victim charlie hebdo shoot post ...      1  \n",
       "93650  man behind ottawa shooting canadian convert is...      0  \n",
       "93651  25 year old man longer use penis 17 year old g...      1  \n",
       "\n",
       "[93652 rows x 3 columns]"
      ]
     },
     "execution_count": 11,
     "metadata": {},
     "output_type": "execute_result"
    }
   ],
   "source": [
    "df"
   ]
  },
  {
   "cell_type": "code",
   "execution_count": null,
   "id": "8b0549e4-9772-4d70-ac0b-13636a56f078",
   "metadata": {},
   "outputs": [],
   "source": []
  }
 ],
 "metadata": {
  "kernelspec": {
   "display_name": "Python 3 (ipykernel)",
   "language": "python",
   "name": "python3"
  },
  "language_info": {
   "codemirror_mode": {
    "name": "ipython",
    "version": 3
   },
   "file_extension": ".py",
   "mimetype": "text/x-python",
   "name": "python",
   "nbconvert_exporter": "python",
   "pygments_lexer": "ipython3",
   "version": "3.7.0"
  }
 },
 "nbformat": 4,
 "nbformat_minor": 5
}
