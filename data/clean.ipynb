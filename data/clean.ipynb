{
 "cells": [
  {
   "cell_type": "code",
   "execution_count": 3,
   "id": "1c82f86c-85f9-4ada-a395-ba7c17115a2f",
   "metadata": {},
   "outputs": [
    {
     "name": "stderr",
     "output_type": "stream",
     "text": [
      "[nltk_data] Downloading package stopwords to\n",
      "[nltk_data]     /home2/arjunth2001/nltk_data...\n",
      "[nltk_data]   Unzipping corpora/stopwords.zip.\n"
     ]
    }
   ],
   "source": [
    "import pandas as pd\n",
    "from tqdm.notebook import tqdm\n",
    "import re\n",
    "import json\n",
    "from nltk.corpus import stopwords\n",
    "import nltk\n",
    "#nltk.download('stopwords')\n",
    "stopwords = stopwords.words('english')\n",
    "tqdm.pandas()"
   ]
  },
  {
   "cell_type": "code",
   "execution_count": 4,
   "id": "a58d9ac1-d0ac-443b-bc91-7f032bc2add5",
   "metadata": {},
   "outputs": [],
   "source": [
    "def remove_emoji(string):\n",
    "    emoji_pattern = re.compile(\"[\"\n",
    "                           u\"\\U0001F600-\\U0001F64F\" # emoticons\n",
    "                           u\"\\U0001F300-\\U0001F5FF\" # symbols & pictographs\n",
    "                           u\"\\U0001F680-\\U0001F6FF\" # transport & map symbols\n",
    "                           u\"\\U0001F1E0-\\U0001F1FF\" # flags (iOS)\n",
    "                           u\"\\U00002702-\\U000027B0\"\n",
    "                           u\"\\U000024C2-\\U0001F251\"\n",
    "                           \"]+\", flags=re.UNICODE)\n",
    "    return emoji_pattern.sub(r'', string)"
   ]
  },
  {
   "cell_type": "code",
   "execution_count": 5,
   "id": "7db9bb98-adf5-465d-9739-0f4628ab7463",
   "metadata": {},
   "outputs": [],
   "source": [
    "def clean_text(x):\n",
    "    x = str(x).lower()\n",
    "    x = remove_emoji(x)\n",
    "    x = re.sub(\"@[A-Za-z0-9]+\",\"\", x) # remove user IDs\n",
    "    x = re.sub(\"(http://.*?\\s)|(http://.*)\",'',str(x)) #remove http links in the text\n",
    "    x = re.sub(\"\\d{1,3}\\.\\d{1,3}\\.\\d{1,3}\\.\\d{1,3}\",'',str(x)) # remove IP addresses\n",
    "    x = re.sub('[!\"#$%&\\()*+,.-/:;<=>?@[\\\\]^_`{|}~]','',str(x)) #remove all punctuation\n",
    "    x = x.split(\" \")\n",
    "    x = [i for i in x if i not in stopwords]\n",
    "    x = \" \".join(x)\n",
    "    x = ' '.join(re.sub(\"[\\'\\’\\.\\,\\!\\?\\:\\;\\-\\=]\", \" \", x).split())\n",
    "    # x is a cleaned string please lemmatise it..\n",
    "    # return value is a string\n",
    "    return x"
   ]
  },
  {
   "cell_type": "code",
   "execution_count": 6,
   "id": "a7c658dc-f417-4bdf-9f4f-454e8c0f590c",
   "metadata": {},
   "outputs": [],
   "source": [
    "train = pd.read_csv(\"unclean/train.csv\")\n",
    "test = pd.read_csv(\"unclean/test.csv\")\n",
    "val = pd.read_csv(\"unclean/val.csv\")"
   ]
  },
  {
   "cell_type": "code",
   "execution_count": 7,
   "id": "ab801f4b-56f8-47d6-9d64-3c659a8d9924",
   "metadata": {},
   "outputs": [
    {
     "data": {
      "application/vnd.jupyter.widget-view+json": {
       "model_id": "a0785f543c054d0d9e55c803df4dc630",
       "version_major": 2,
       "version_minor": 0
      },
      "text/plain": [
       "  0%|          | 0/93652 [00:00<?, ?it/s]"
      ]
     },
     "metadata": {},
     "output_type": "display_data"
    },
    {
     "data": {
      "application/vnd.jupyter.widget-view+json": {
       "model_id": "0f172b09cb794924a7316ba8c0ed9922",
       "version_major": 2,
       "version_minor": 0
      },
      "text/plain": [
       "  0%|          | 0/93652 [00:00<?, ?it/s]"
      ]
     },
     "metadata": {},
     "output_type": "display_data"
    },
    {
     "data": {
      "application/vnd.jupyter.widget-view+json": {
       "model_id": "9de44ea95a9e4dd3bee95a88a99a91fe",
       "version_major": 2,
       "version_minor": 0
      },
      "text/plain": [
       "  0%|          | 0/11707 [00:00<?, ?it/s]"
      ]
     },
     "metadata": {},
     "output_type": "display_data"
    },
    {
     "data": {
      "application/vnd.jupyter.widget-view+json": {
       "model_id": "67184d0221744e6f86651cbc0874e582",
       "version_major": 2,
       "version_minor": 0
      },
      "text/plain": [
       "  0%|          | 0/11707 [00:00<?, ?it/s]"
      ]
     },
     "metadata": {},
     "output_type": "display_data"
    },
    {
     "data": {
      "application/vnd.jupyter.widget-view+json": {
       "model_id": "f3de72223ec14cb48c4c3023af286914",
       "version_major": 2,
       "version_minor": 0
      },
      "text/plain": [
       "  0%|          | 0/11706 [00:00<?, ?it/s]"
      ]
     },
     "metadata": {},
     "output_type": "display_data"
    },
    {
     "data": {
      "application/vnd.jupyter.widget-view+json": {
       "model_id": "9ca4378924bf484fb6afc5a195f80d9e",
       "version_major": 2,
       "version_minor": 0
      },
      "text/plain": [
       "  0%|          | 0/11706 [00:00<?, ?it/s]"
      ]
     },
     "metadata": {},
     "output_type": "display_data"
    }
   ],
   "source": [
    "train[\"heading\"] = train[\"heading\"].progress_apply(lambda x: clean_text(x))\n",
    "train[\"body\"] = train[\"body\"].progress_apply(lambda x: clean_text(x))\n",
    "test[\"heading\"] = test[\"heading\"].progress_apply(lambda x: clean_text(x))\n",
    "test[\"body\"] = test[\"body\"].progress_apply(lambda x: clean_text(x))\n",
    "val[\"heading\"] = val[\"heading\"].progress_apply(lambda x: clean_text(x))\n",
    "val[\"body\"] = val[\"body\"].progress_apply(lambda x: clean_text(x))"
   ]
  },
  {
   "cell_type": "code",
   "execution_count": 9,
   "id": "4f6e5380-06d6-4654-a62d-11fd126d9e4b",
   "metadata": {},
   "outputs": [],
   "source": [
    "train.to_csv(\"clean/train.csv\",index=False)\n",
    "test.to_csv(\"clean/test.csv\",index=False)\n",
    "val.to_csv(\"clean/val.csv\",index=False)"
   ]
  },
  {
   "cell_type": "code",
   "execution_count": null,
   "id": "a2def6ea-5360-4f9e-b216-af42343e88bb",
   "metadata": {},
   "outputs": [],
   "source": []
  }
 ],
 "metadata": {
  "kernelspec": {
   "display_name": "Python 3 (ipykernel)",
   "language": "python",
   "name": "python3"
  },
  "language_info": {
   "codemirror_mode": {
    "name": "ipython",
    "version": 3
   },
   "file_extension": ".py",
   "mimetype": "text/x-python",
   "name": "python",
   "nbconvert_exporter": "python",
   "pygments_lexer": "ipython3",
   "version": "3.7.0"
  }
 },
 "nbformat": 4,
 "nbformat_minor": 5
}
